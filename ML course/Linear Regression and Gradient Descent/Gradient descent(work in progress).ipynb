{
 "cells": [
  {
   "cell_type": "code",
   "execution_count": null,
   "id": "1a50807c",
   "metadata": {},
   "outputs": [],
   "source": [
    "#Following https://jovian.ai/aakashns/python-sklearn-linear-regression\n",
    "medical_charges_url = 'https://raw.githubusercontent.com/JovianML/opendatasets/master/data/medical-charges.csv'"
   ]
  },
  {
   "cell_type": "code",
   "execution_count": null,
   "id": "f712ce37",
   "metadata": {},
   "outputs": [],
   "source": [
    "from urllib.request import urlretrieve\n"
   ]
  },
  {
   "cell_type": "code",
   "execution_count": null,
   "id": "d41ed59d",
   "metadata": {},
   "outputs": [],
   "source": [
    "urlretrieve(medical_charges_url, 'medical.csv')\n"
   ]
  },
  {
   "cell_type": "code",
   "execution_count": null,
   "id": "968d7910",
   "metadata": {},
   "outputs": [],
   "source": [
    "!pip install pandas --quiet"
   ]
  },
  {
   "cell_type": "code",
   "execution_count": null,
   "id": "5fc1e380",
   "metadata": {},
   "outputs": [],
   "source": [
    "import pandas as pd"
   ]
  },
  {
   "cell_type": "code",
   "execution_count": null,
   "id": "0c630eab",
   "metadata": {},
   "outputs": [],
   "source": [
    "df_medical = pd.read_csv('medical.csv')"
   ]
  },
  {
   "cell_type": "code",
   "execution_count": null,
   "id": "ad667f8d",
   "metadata": {},
   "outputs": [],
   "source": [
    "df_medical\n"
   ]
  },
  {
   "cell_type": "code",
   "execution_count": null,
   "id": "37349fc1",
   "metadata": {},
   "outputs": [],
   "source": [
    "df_medical.info()"
   ]
  },
  {
   "cell_type": "code",
   "execution_count": null,
   "id": "5682224d",
   "metadata": {},
   "outputs": [],
   "source": [
    "df_medical.describe()"
   ]
  },
  {
   "cell_type": "code",
   "execution_count": null,
   "id": "f04a8e76",
   "metadata": {},
   "outputs": [],
   "source": [
    "%pip install plotly matplotlib seaborn --quiet\n"
   ]
  },
  {
   "cell_type": "code",
   "execution_count": null,
   "id": "85288918",
   "metadata": {},
   "outputs": [],
   "source": [
    "import plotly.express as px\n",
    "import matplotlib\n",
    "import matplotlib.pyplot as plt\n",
    "import seaborn as sns\n",
    "%matplotlib inline"
   ]
  },
  {
   "cell_type": "code",
   "execution_count": null,
   "id": "bf8ad069",
   "metadata": {},
   "outputs": [],
   "source": [
    "sns.set_style('darkgrid')\n",
    "matplotlib.rcParams['font.size'] = 14\n",
    "matplotlib.rcParams['figure.figsize'] = (10, 6)\n",
    "matplotlib.rcParams['figure.facecolor'] = '#00000000'"
   ]
  },
  {
   "cell_type": "code",
   "execution_count": null,
   "id": "8ec6e1ff",
   "metadata": {},
   "outputs": [],
   "source": [
    "df_medical.age.describe()"
   ]
  },
  {
   "cell_type": "code",
   "execution_count": null,
   "id": "f81b75cc",
   "metadata": {},
   "outputs": [],
   "source": [
    "fig = px.histogram(df_medical, \n",
    "                   x='age', \n",
    "                   marginal='box', \n",
    "                   nbins=47, \n",
    "                   title='Distribution of Age')\n",
    "fig.update_layout(bargap=0.1)\n",
    "fig.show(renderer=\"notebook\")\n",
    "fig.write_html(\"plot.html\")"
   ]
  },
  {
   "cell_type": "code",
   "execution_count": null,
   "id": "ad33b263",
   "metadata": {},
   "outputs": [],
   "source": [
    "df_medical[df_medical['age'].isin([18,19])].charges.describe()\n"
   ]
  },
  {
   "cell_type": "code",
   "execution_count": null,
   "id": "9dfd2ec6",
   "metadata": {},
   "outputs": [],
   "source": [
    "df_medical[df_medical['age'].isin([20,26])].charges.describe()\n",
    "#Referring to plot.html histogram\n",
    "#There are twice as many 18 and 19 y/o people not due to low charges because the mean is similar for a bit older people.\n",
    "#Perhaps the reason is that you can get the insurance from 18 so there's such an influx of very young adults."
   ]
  },
  {
   "cell_type": "code",
   "execution_count": null,
   "id": "73dda5c4",
   "metadata": {},
   "outputs": [],
   "source": [
    "fig = px.histogram(df_medical, \n",
    "                   x='bmi', \n",
    "                   marginal='box', \n",
    "                   color_discrete_sequence=['red'], \n",
    "                   title='Distribution of BMI (Body Mass Index)')\n",
    "fig.update_layout(bargap=0.1)\n",
    "fig.show()\n",
    "fig.write_html(\"plot_bmi.html\")"
   ]
  },
  {
   "cell_type": "code",
   "execution_count": null,
   "id": "fa012e87",
   "metadata": {},
   "outputs": [],
   "source": [
    "fig = px.histogram(df_medical,\n",
    "                  x=\"charges\",\n",
    "                  marginal = 'box',\n",
    "                color = 'smoker',\n",
    "                color_discrete_sequence = ['green', 'gray'],\n",
    "                 title = 'Annual Medical Charges')\n",
    "fig.update_layout(bargap=0.1)\n",
    "fig.show()\n",
    "fig.write_html(\"plot_charges_smoker.html\")"
   ]
  },
  {
   "cell_type": "code",
   "execution_count": null,
   "id": "95e55ee1",
   "metadata": {},
   "outputs": [],
   "source": [
    "fig = px.histogram(df_medical,\n",
    "                  x=\"charges\",\n",
    "                  marginal = 'box',\n",
    "                color = 'sex',\n",
    "                color_discrete_sequence = ['green', 'gray'],\n",
    "                 title = 'Annual Medical Charges')\n",
    "fig.update_layout(bargap=0.1)\n",
    "fig.show()\n",
    "fig.write_html(\"plot_charges_sex.html\")"
   ]
  },
  {
   "cell_type": "code",
   "execution_count": null,
   "id": "b9a84a63",
   "metadata": {},
   "outputs": [],
   "source": [
    "fig = px.histogram(df_medical,\n",
    "                  x=\"charges\",\n",
    "                  marginal = 'box',\n",
    "                color = 'region',\n",
    "                color_discrete_sequence = ['green', 'gray', 'blue', 'purple'],\n",
    "                 title = 'Annual Medical Charges')\n",
    "fig.update_layout(bargap=0.1)\n",
    "fig.show()\n",
    "fig.write_html(\"plot_charges_region.html\")"
   ]
  },
  {
   "cell_type": "code",
   "execution_count": null,
   "id": "d98698eb",
   "metadata": {},
   "outputs": [],
   "source": [
    "df_medical.smoker.value_counts()\n",
    "#this matches the nation average in 2010"
   ]
  },
  {
   "cell_type": "code",
   "execution_count": null,
   "id": "fe0b4927",
   "metadata": {},
   "outputs": [],
   "source": [
    "fig = px.histogram(df_medical,\n",
    "                  x='smoker',\n",
    "                  color='sex',\n",
    "                  color_discrete_sequence = ['green', 'gray'],\n",
    "                  title='Smoker_sex')\n",
    "fig.show()\n",
    "fig.write_html(\"smoker_sex.html\")\n",
    "#Male are more likely to be smokers(which also matches the general population)"
   ]
  },
  {
   "cell_type": "code",
   "execution_count": null,
   "id": "364e0055",
   "metadata": {},
   "outputs": [],
   "source": [
    "fig = px.histogram(df_medical,\n",
    "                  x=\"region\",\n",
    "                  title=\"Region distribution\")\n",
    "fig.show()\n",
    "fig.write_html(\"Region_distribution.html\")\n",
    "\n",
    "fig = px.histogram(df_medical,\n",
    "                  x=\"sex\",\n",
    "                  title=\"Sex distribution\")\n",
    "fig.show()\n",
    "fig.write_html(\"Sex_distribution.html\")\n",
    "\n",
    "fig = px.histogram(df_medical,\n",
    "                  x=\"children\",\n",
    "                  title=\"Children distribution\")\n",
    "fig.show()\n",
    "fig.write_html(\"Children_distribution.html\")"
   ]
  },
  {
   "cell_type": "code",
   "execution_count": null,
   "id": "97f97d3f",
   "metadata": {},
   "outputs": [],
   "source": [
    "fig = px.scatter(df_medical,\n",
    "                x='age',\n",
    "                y='charges',\n",
    "                color='smoker',\n",
    "                opacity=0.8,\n",
    "                hover_data=['sex'],\n",
    "                title='Age vs. Charges')\n",
    "fig.update_traces(marker_size=5)\n",
    "fig.show()\n",
    "fig.write_html(\"scatter_age.html\")"
   ]
  },
  {
   "cell_type": "code",
   "execution_count": null,
   "id": "72692805",
   "metadata": {},
   "outputs": [],
   "source": [
    "df_medical[(df_medical['smoker']=='yes') & (df_medical['charges']>30000)].bmi.describe()\n",
    "#Probably the cluster of smokers in the scatter plot with highest medical charges are people who smoke and have high bmi"
   ]
  },
  {
   "cell_type": "code",
   "execution_count": null,
   "id": "e227c8ae",
   "metadata": {},
   "outputs": [],
   "source": [
    "fig = px.scatter(df_medical,\n",
    "                x='bmi',\n",
    "                y='charges',\n",
    "                color = 'smoker',\n",
    "                opacity=0.8, \n",
    "                hover_data=['sex'], \n",
    "                title='BMI vs. Charges')\n",
    "fig.update_traces(marker_size=5)\n",
    "fig.show()\n",
    "fig.write_html(\"scatter_bmi.html\")"
   ]
  },
  {
   "cell_type": "code",
   "execution_count": null,
   "id": "bad8dbb0",
   "metadata": {},
   "outputs": [],
   "source": []
  }
 ],
 "metadata": {
  "kernelspec": {
   "display_name": "Python 3 (ipykernel)",
   "language": "python",
   "name": "python3"
  },
  "language_info": {
   "codemirror_mode": {
    "name": "ipython",
    "version": 3
   },
   "file_extension": ".py",
   "mimetype": "text/x-python",
   "name": "python",
   "nbconvert_exporter": "python",
   "pygments_lexer": "ipython3",
   "version": "3.9.7"
  }
 },
 "nbformat": 4,
 "nbformat_minor": 5
}
