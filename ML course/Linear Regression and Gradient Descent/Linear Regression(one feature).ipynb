{
 "cells": [
  {
   "cell_type": "code",
   "execution_count": null,
   "id": "78e0a552",
   "metadata": {},
   "outputs": [],
   "source": [
    "#Following https://jovian.ai/aakashns/python-sklearn-linear-regression\n",
    "medical_charges_url = 'https://raw.githubusercontent.com/JovianML/opendatasets/master/data/medical-charges.csv'"
   ]
  },
  {
   "cell_type": "code",
   "execution_count": null,
   "id": "d31e2320",
   "metadata": {},
   "outputs": [],
   "source": [
    "from urllib.request import urlretrieve\n"
   ]
  },
  {
   "cell_type": "code",
   "execution_count": null,
   "id": "99cfdffe",
   "metadata": {},
   "outputs": [],
   "source": [
    "urlretrieve(medical_charges_url, 'medical.csv')"
   ]
  },
  {
   "cell_type": "code",
   "execution_count": null,
   "id": "8c982d1f",
   "metadata": {},
   "outputs": [],
   "source": [
    "!pip install pandas --quiet\n",
    "import pandas as pd"
   ]
  },
  {
   "cell_type": "code",
   "execution_count": null,
   "id": "d1dfbf01",
   "metadata": {},
   "outputs": [],
   "source": [
    "df_medical = pd.read_csv('medical.csv')"
   ]
  },
  {
   "cell_type": "code",
   "execution_count": null,
   "id": "48936717",
   "metadata": {},
   "outputs": [],
   "source": [
    "import plotly.express as px\n",
    "import matplotlib\n",
    "import matplotlib.pyplot as plt\n",
    "import seaborn as sns\n",
    "%matplotlib inline"
   ]
  },
  {
   "cell_type": "code",
   "execution_count": null,
   "id": "29c5e3be",
   "metadata": {},
   "outputs": [],
   "source": [
    "sns.set_style('darkgrid')\n",
    "matplotlib.rcParams['font.size'] = 14\n",
    "matplotlib.rcParams['figure.figsize'] = (10, 6)\n",
    "matplotlib.rcParams['figure.facecolor'] = '#00000000'"
   ]
  },
  {
   "cell_type": "code",
   "execution_count": null,
   "id": "fbe58262",
   "metadata": {},
   "outputs": [],
   "source": [
    "#Linear regression with one feature(Charge and age for non smokers)"
   ]
  },
  {
   "cell_type": "code",
   "execution_count": null,
   "id": "94560b2f",
   "metadata": {},
   "outputs": [],
   "source": [
    "non_smoker_df=df_medical[df_medical['smoker']=='no']"
   ]
  },
  {
   "cell_type": "code",
   "execution_count": null,
   "id": "36c49e5d",
   "metadata": {},
   "outputs": [],
   "source": [
    "plt.title(\"Age vs charges\")\n",
    "sns.scatterplot(data = non_smoker_df, x=\"age\", y='charges', alpha = 0.7, s=15)"
   ]
  },
  {
   "cell_type": "code",
   "execution_count": null,
   "id": "cd787996",
   "metadata": {},
   "outputs": [],
   "source": [
    "def charges_est(k, age, b):\n",
    "    return k*age + b"
   ]
  },
  {
   "cell_type": "code",
   "execution_count": null,
   "id": "543f4a09",
   "metadata": {},
   "outputs": [],
   "source": [
    "k = 100\n",
    "b=10"
   ]
  },
  {
   "cell_type": "code",
   "execution_count": null,
   "id": "3db16fff",
   "metadata": {},
   "outputs": [],
   "source": [
    "ages = non_smoker_df.age\n",
    "est_charges = charges_est(k, ages, b)"
   ]
  },
  {
   "cell_type": "code",
   "execution_count": null,
   "id": "45fbe1ef",
   "metadata": {},
   "outputs": [],
   "source": [
    "plt.plot(ages, est_charges, 'r', alpha=0.9)\n",
    "plt.scatter(ages, non_smoker_df.charges, s=8, alpha = 0.8)\n",
    "plt.xlabel(\"Age\")\n",
    "plt.ylabel(\"Charges\")\n",
    "plt.legend([\"Estimate\", \"Actual\"])"
   ]
  },
  {
   "cell_type": "code",
   "execution_count": null,
   "id": "cc076fa8",
   "metadata": {},
   "outputs": [],
   "source": [
    "!pip install scikit-learn --quiet\n",
    "from sklearn.linear_model import LinearRegression\n",
    "import numpy as np"
   ]
  },
  {
   "cell_type": "code",
   "execution_count": null,
   "id": "ecc64fba",
   "metadata": {},
   "outputs": [],
   "source": [
    "model = LinearRegression()"
   ]
  },
  {
   "cell_type": "code",
   "execution_count": null,
   "id": "3c989b54",
   "metadata": {},
   "outputs": [],
   "source": [
    "help(model.fit)"
   ]
  },
  {
   "cell_type": "code",
   "execution_count": null,
   "id": "26597aa6",
   "metadata": {},
   "outputs": [],
   "source": [
    "inputs = non_smoker_df[['age']]\n",
    "target = non_smoker_df.charges\n",
    "model.fit(inputs, target)"
   ]
  },
  {
   "cell_type": "code",
   "execution_count": null,
   "id": "4e33da62",
   "metadata": {},
   "outputs": [],
   "source": [
    "help(model.predict)"
   ]
  },
  {
   "cell_type": "code",
   "execution_count": null,
   "id": "4db916f4",
   "metadata": {},
   "outputs": [],
   "source": [
    "model.predict(np.array([[23],\n",
    "                       [37], \n",
    "                       [61]]))"
   ]
  },
  {
   "cell_type": "code",
   "execution_count": null,
   "id": "c316bc63",
   "metadata": {},
   "outputs": [],
   "source": [
    "predictions = model.predict(inputs)\n",
    "predictions"
   ]
  },
  {
   "cell_type": "code",
   "execution_count": null,
   "id": "f0c3439e",
   "metadata": {},
   "outputs": [],
   "source": [
    "target"
   ]
  },
  {
   "cell_type": "code",
   "execution_count": null,
   "id": "10f6d4bb",
   "metadata": {},
   "outputs": [],
   "source": [
    "from sklearn.metrics import mean_absolute_error\n",
    "from sklearn.metrics import mean_squared_error\n",
    "mean_absolute_error(target, predictions)"
   ]
  },
  {
   "cell_type": "code",
   "execution_count": null,
   "id": "20c8edc6",
   "metadata": {},
   "outputs": [],
   "source": [
    "np.power(mean_squared_error(target, predictions), 1/2)"
   ]
  },
  {
   "cell_type": "code",
   "execution_count": null,
   "id": "4483ba63",
   "metadata": {},
   "outputs": [],
   "source": [
    "from sklearn.linear_model import SGDRegressor\n",
    "model1 = SGDRegressor()"
   ]
  },
  {
   "cell_type": "code",
   "execution_count": null,
   "id": "d1f0e5fa",
   "metadata": {},
   "outputs": [],
   "source": [
    "model1.fit(inputs, target)"
   ]
  },
  {
   "cell_type": "code",
   "execution_count": null,
   "id": "cd52ad1c",
   "metadata": {},
   "outputs": [],
   "source": [
    "predictions1 = model1.predict(inputs)"
   ]
  },
  {
   "cell_type": "code",
   "execution_count": null,
   "id": "df8dbafa",
   "metadata": {},
   "outputs": [],
   "source": [
    "np.power(mean_squared_error(target, predictions1), 1/2)"
   ]
  },
  {
   "cell_type": "code",
   "execution_count": null,
   "id": "fa3df90c",
   "metadata": {},
   "outputs": [],
   "source": [
    "mean_absolute_error(target, predictions)"
   ]
  },
  {
   "cell_type": "code",
   "execution_count": null,
   "id": "5171b9bc",
   "metadata": {},
   "outputs": [],
   "source": [
    "plt.plot(inputs, predictions, 'r', alpha=0.9)\n",
    "plt.plot(inputs, predictions1, 'g', alpha=0.9)\n",
    "plt.scatter(ages, non_smoker_df.charges, s=8, alpha = 0.8)\n",
    "plt.xlabel(\"Age\")\n",
    "plt.ylabel(\"Charges\")\n",
    "plt.legend([\"Estimate_LR\", \"Estimate_SGDR\", \"Actual\"])"
   ]
  },
  {
   "cell_type": "code",
   "execution_count": null,
   "id": "7319a67f",
   "metadata": {},
   "outputs": [],
   "source": []
  }
 ],
 "metadata": {
  "kernelspec": {
   "display_name": "Python 3 (ipykernel)",
   "language": "python",
   "name": "python3"
  },
  "language_info": {
   "codemirror_mode": {
    "name": "ipython",
    "version": 3
   },
   "file_extension": ".py",
   "mimetype": "text/x-python",
   "name": "python",
   "nbconvert_exporter": "python",
   "pygments_lexer": "ipython3",
   "version": "3.9.7"
  }
 },
 "nbformat": 4,
 "nbformat_minor": 5
}
