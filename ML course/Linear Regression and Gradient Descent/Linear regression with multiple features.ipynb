{
 "cells": [
  {
   "cell_type": "code",
   "execution_count": null,
   "id": "281e4a3b",
   "metadata": {},
   "outputs": [],
   "source": [
    "#Following https://jovian.ai/aakashns/python-sklearn-linear-regression\n",
    "medical_charges_url = 'https://raw.githubusercontent.com/JovianML/opendatasets/master/data/medical-charges.csv'"
   ]
  },
  {
   "cell_type": "code",
   "execution_count": null,
   "id": "c7b5860b",
   "metadata": {},
   "outputs": [],
   "source": [
    "from urllib.request import urlretrieve\n"
   ]
  },
  {
   "cell_type": "code",
   "execution_count": null,
   "id": "f594905e",
   "metadata": {},
   "outputs": [],
   "source": [
    "urlretrieve(medical_charges_url, 'medical.csv')"
   ]
  },
  {
   "cell_type": "code",
   "execution_count": null,
   "id": "75991675",
   "metadata": {},
   "outputs": [],
   "source": [
    "!pip install pandas --quiet\n",
    "import pandas as pd"
   ]
  },
  {
   "cell_type": "code",
   "execution_count": null,
   "id": "bd1ab512",
   "metadata": {},
   "outputs": [],
   "source": [
    "df_medical = pd.read_csv('medical.csv')"
   ]
  },
  {
   "cell_type": "code",
   "execution_count": null,
   "id": "473bce69",
   "metadata": {},
   "outputs": [],
   "source": [
    "import plotly.express as px\n",
    "import matplotlib\n",
    "import matplotlib.pyplot as plt\n",
    "import seaborn as sns\n",
    "%matplotlib inline"
   ]
  },
  {
   "cell_type": "code",
   "execution_count": null,
   "id": "fe18619e",
   "metadata": {},
   "outputs": [],
   "source": [
    "sns.set_style('darkgrid')\n",
    "matplotlib.rcParams['font.size'] = 14\n",
    "matplotlib.rcParams['figure.figsize'] = (10, 6)\n",
    "matplotlib.rcParams['figure.facecolor'] = '#00000000'"
   ]
  },
  {
   "cell_type": "code",
   "execution_count": null,
   "id": "de3fff62",
   "metadata": {},
   "outputs": [],
   "source": [
    "#Linear regression with multiple features(bmi and age for non smokers)"
   ]
  },
  {
   "cell_type": "code",
   "execution_count": null,
   "id": "f7e5508a",
   "metadata": {},
   "outputs": [],
   "source": [
    "from sklearn.linear_model import LinearRegression\n",
    "non_smoker_df=df_medical[df_medical['smoker']=='no']\n",
    "inputs, targets = non_smoker_df[['age', 'bmi']], non_smoker_df['charges']\n",
    "model = LinearRegression()"
   ]
  },
  {
   "cell_type": "code",
   "execution_count": null,
   "id": "8fce3bc1",
   "metadata": {},
   "outputs": [],
   "source": [
    "model.fit(inputs, targets)"
   ]
  },
  {
   "cell_type": "code",
   "execution_count": null,
   "id": "9fe7525d",
   "metadata": {},
   "outputs": [],
   "source": [
    "predictions = model.predict(inputs)"
   ]
  },
  {
   "cell_type": "code",
   "execution_count": null,
   "id": "06630136",
   "metadata": {},
   "outputs": [],
   "source": [
    "from sklearn.metrics import mean_absolute_error\n",
    "from sklearn.metrics import mean_squared_error\n",
    "import numpy as np\n",
    "mean_absolute_error(targets, predictions)"
   ]
  },
  {
   "cell_type": "code",
   "execution_count": null,
   "id": "c41f0a9c",
   "metadata": {},
   "outputs": [],
   "source": [
    "np.power(mean_squared_error(targets, predictions), 1/2)"
   ]
  },
  {
   "cell_type": "code",
   "execution_count": null,
   "id": "491d90cb",
   "metadata": {},
   "outputs": [],
   "source": [
    "#Linear regression with multiple features(bmi, age and children for non smokers)"
   ]
  },
  {
   "cell_type": "code",
   "execution_count": null,
   "id": "47bdb2d6",
   "metadata": {},
   "outputs": [],
   "source": [
    "inputs1 = non_smoker_df[['age', 'bmi', 'children']]\n",
    "model1 = LinearRegression()"
   ]
  },
  {
   "cell_type": "code",
   "execution_count": null,
   "id": "6ebef69f",
   "metadata": {},
   "outputs": [],
   "source": [
    "model1.fit(inputs1, targets)"
   ]
  },
  {
   "cell_type": "code",
   "execution_count": null,
   "id": "0b9f412a",
   "metadata": {},
   "outputs": [],
   "source": [
    "predictions1 = model1.predict(inputs1)"
   ]
  },
  {
   "cell_type": "code",
   "execution_count": null,
   "id": "3a3207af",
   "metadata": {},
   "outputs": [],
   "source": [
    "mean_absolute_error(targets, predictions1)"
   ]
  },
  {
   "cell_type": "code",
   "execution_count": null,
   "id": "ca6f5c42",
   "metadata": {},
   "outputs": [],
   "source": [
    "np.power(mean_squared_error(targets, predictions1), 1/2)"
   ]
  },
  {
   "cell_type": "code",
   "execution_count": null,
   "id": "1a96d83a",
   "metadata": {},
   "outputs": [],
   "source": []
  }
 ],
 "metadata": {
  "kernelspec": {
   "display_name": "Python 3 (ipykernel)",
   "language": "python",
   "name": "python3"
  },
  "language_info": {
   "codemirror_mode": {
    "name": "ipython",
    "version": 3
   },
   "file_extension": ".py",
   "mimetype": "text/x-python",
   "name": "python",
   "nbconvert_exporter": "python",
   "pygments_lexer": "ipython3",
   "version": "3.9.7"
  }
 },
 "nbformat": 4,
 "nbformat_minor": 5
}
